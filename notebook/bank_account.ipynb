{
 "cells": [
  {
   "cell_type": "code",
   "execution_count": 3,
   "metadata": {},
   "outputs": [],
   "source": [
    "import ipytest\n",
    "import pytest \n",
    "ipytest.autoconfig()"
   ]
  },
  {
   "cell_type": "code",
   "execution_count": null,
   "metadata": {},
   "outputs": [],
   "source": [
    "# ライブラリインポート\n",
    "from bank_account import BankAccount"
   ]
  },
  {
   "cell_type": "code",
   "execution_count": null,
   "metadata": {},
   "outputs": [],
   "source": [
    "# テストケースを定義します\n",
    "def test_bank_account_deposit():\n",
    "    account = BankAccount(100)\n",
    "    account.deposit(50)\n",
    "    assert account.get_balance() == 150, \"預金後の残高が正しくありません\"\n",
    "\n",
    "def test_bank_account_withdraw():\n",
    "    account = BankAccount(100)\n",
    "    account.withdraw(50)\n",
    "    assert account.get_balance() == 50, \"引き出し後の残高が正しくありません\"\n",
    "\n",
    "def test_deposit_negative_amount():\n",
    "    account = BankAccount()\n",
    "    with pytest.raises(ValueError, match=\"預金額は正の値でなければなりません\"):\n",
    "        account.deposit(-100)\n",
    "\n",
    "def test_withdraw_negative_amount():\n",
    "    account = BankAccount(100)\n",
    "    with pytest.raises(ValueError, match=\"引き出し額は正の値でなければなりません\"):\n",
    "        account.withdraw(-100)\n",
    "\n",
    "def test_withdraw_insufficient_balance():\n",
    "    account = BankAccount(50)\n",
    "    with pytest.raises(ValueError, match=\"残高不足です\"):\n",
    "        account.withdraw(100)\n",
    "\n",
    "# テストを実行します\n",
    "ipytest.run()"
   ]
  }
 ],
 "metadata": {
  "kernelspec": {
   "display_name": ".venv",
   "language": "python",
   "name": "python3"
  },
  "language_info": {
   "codemirror_mode": {
    "name": "ipython",
    "version": 3
   },
   "file_extension": ".py",
   "mimetype": "text/x-python",
   "name": "python",
   "nbconvert_exporter": "python",
   "pygments_lexer": "ipython3",
   "version": "3.10.4"
  }
 },
 "nbformat": 4,
 "nbformat_minor": 2
}
